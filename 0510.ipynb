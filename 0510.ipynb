{
  "nbformat": 4,
  "nbformat_minor": 0,
  "metadata": {
    "colab": {
      "provenance": [],
      "authorship_tag": "ABX9TyP/fh8KR/fBozcAFbSsIkbW",
      "include_colab_link": true
    },
    "kernelspec": {
      "name": "python3",
      "display_name": "Python 3"
    },
    "language_info": {
      "name": "python"
    }
  },
  "cells": [
    {
      "cell_type": "markdown",
      "metadata": {
        "id": "view-in-github",
        "colab_type": "text"
      },
      "source": [
        "<a href=\"https://colab.research.google.com/github/CY06an/Introduction-to-Computers/blob/main/0510.ipynb\" target=\"_parent\"><img src=\"https://colab.research.google.com/assets/colab-badge.svg\" alt=\"Open In Colab\"/></a>"
      ]
    },
    {
      "cell_type": "code",
      "execution_count": 1,
      "metadata": {
        "colab": {
          "base_uri": "https://localhost:8080/"
        },
        "id": "mpjY7LA9vKsu",
        "outputId": "ae0d1a76-1a6c-4ac0-907d-8ea36b248e07"
      },
      "outputs": [
        {
          "output_type": "stream",
          "name": "stdout",
          "text": [
            "請輸入分數: 78\n",
            "及格\n"
          ]
        }
      ],
      "source": [
        "score = int(input(\"請輸入分數: \"))\n",
        "if score >= 60:\n",
        "  print(\"及格\")\n",
        "else:\n",
        "  print(\"不及格\")"
      ]
    },
    {
      "cell_type": "code",
      "source": [
        "score = int(input(\"請輸入密碼: \"))\n",
        "if score == 1234:\n",
        "  print(\"密碼正確\")\n",
        "else:\n",
        "  print(\"密碼不正確\")\n"
      ],
      "metadata": {
        "colab": {
          "base_uri": "https://localhost:8080/"
        },
        "id": "kpIShVVvyZEL",
        "outputId": "018e7bf3-172f-4229-defe-da99e8a08d61"
      },
      "execution_count": 6,
      "outputs": [
        {
          "output_type": "stream",
          "name": "stdout",
          "text": [
            "請輸入密碼: 1234\n",
            "密碼正確\n"
          ]
        }
      ]
    },
    {
      "cell_type": "code",
      "source": [
        "score = int(input(\"請輸入正整數: \"))\n",
        "if(score>=0):\n",
        "  if(score % 2==0):\n",
        "    print(\"{} 偶數\".format(score))\n",
        "  else:\n",
        "    print(\"{} 奇數\".format(score))"
      ],
      "metadata": {
        "colab": {
          "base_uri": "https://localhost:8080/"
        },
        "id": "Sdlc72f5z3xv",
        "outputId": "50ab9dda-599c-4146-e6d1-9349742af3e1"
      },
      "execution_count": 10,
      "outputs": [
        {
          "output_type": "stream",
          "name": "stdout",
          "text": [
            "請輸入正整數: 45\n",
            "45 奇數\n"
          ]
        }
      ]
    }
  ]
}
{
  "nbformat": 4,
  "nbformat_minor": 0,
  "metadata": {
    "colab": {
      "provenance": [],
      "authorship_tag": "ABX9TyOgZJD3SSm9X3QOFsbpoM7v",
      "include_colab_link": true
    },
    "kernelspec": {
      "name": "python3",
      "display_name": "Python 3"
    },
    "language_info": {
      "name": "python"
    }
  },
  "cells": [
    {
      "cell_type": "markdown",
      "metadata": {
        "id": "view-in-github",
        "colab_type": "text"
      },
      "source": [
        "<a href=\"https://colab.research.google.com/github/CY06an/Introduction-to-Computers/blob/main/Untitled6.ipynb\" target=\"_parent\"><img src=\"https://colab.research.google.com/assets/colab-badge.svg\" alt=\"Open In Colab\"/></a>"
      ]
    },
    {
      "cell_type": "code",
      "execution_count": 2,
      "metadata": {
        "colab": {
          "base_uri": "https://localhost:8080/"
        },
        "id": "2kuebkIZIThP",
        "outputId": "d2628d7b-53a1-4ded-edff-b00e79670928"
      },
      "outputs": [
        {
          "output_type": "stream",
          "name": "stdout",
          "text": [
            "score: 60\n",
            "Grade is: D\n"
          ]
        }
      ],
      "source": [
        "score = int(input(\"score: \"))\n",
        "if score >= 90:\n",
        "    print('Grade is: A')\n",
        "elif score >= 80:\n",
        "    print('Grade is: B')\n",
        "elif score >= 70:\n",
        "    print('Grade is: C')\n",
        "elif score >= 60:\n",
        "    print('Grade is: D')\n",
        "else:\n",
        "    print('Grade is: F')"
      ]
    },
    {
      "cell_type": "code",
      "source": [
        "rain = input(\"今天會下雨嗎？\")\n",
        "if rain == \"Y\" or rain == \"y\":\n",
        "    print(\"出門記得帶傘！\")\n",
        "elif rain == \"N\" or rain == \"n\":\n",
        "    print(\"不用帶傘！\")\n",
        "else:\n",
        "    print(\"請重新輸入！\")"
      ],
      "metadata": {
        "colab": {
          "base_uri": "https://localhost:8080/"
        },
        "id": "8n4HqjEQI5CQ",
        "outputId": "d87a5a34-a85e-4607-9151-b79aac12bc84"
      },
      "execution_count": 3,
      "outputs": [
        {
          "output_type": "stream",
          "name": "stdout",
          "text": [
            "今天會下雨嗎？y\n",
            "出門記得帶傘！\n"
          ]
        }
      ]
    },
    {
      "cell_type": "code",
      "source": [
        "C = float(input(\"體溫: \"))\n",
        "if C >= 37.5:\n",
        "    print('體溫過高！')\n",
        "elif C >= 37:\n",
        "    print('體溫略高！')\n",
        "elif C >= 34:\n",
        "    print('體溫正常！')\n",
        "elif C < 34:\n",
        "    print('體溫異常，請重新測量！')"
      ],
      "metadata": {
        "colab": {
          "base_uri": "https://localhost:8080/"
        },
        "id": "0lUppCj9I-Iy",
        "outputId": "45838893-19b6-4852-da9d-c9e0964ca886"
      },
      "execution_count": 4,
      "outputs": [
        {
          "output_type": "stream",
          "name": "stdout",
          "text": [
            "體溫: 36\n",
            "體溫正常！\n"
          ]
        }
      ]
    },
    {
      "cell_type": "code",
      "source": [
        "score = int(input(\"請輸入成績: \"))\n",
        "if score >= 90:\n",
        "    print('A')\n",
        "elif score >= 80:\n",
        "    print('B')\n",
        "elif score >= 70:\n",
        "    print('C')\n",
        "elif score >= 60:\n",
        "    print('D')\n",
        "else:\n",
        "    print('E')"
      ],
      "metadata": {
        "colab": {
          "base_uri": "https://localhost:8080/"
        },
        "id": "GCs8PePFJCKc",
        "outputId": "10ae6c9f-5c81-44ec-b6d8-6edb878b4fe2"
      },
      "execution_count": 5,
      "outputs": [
        {
          "output_type": "stream",
          "name": "stdout",
          "text": [
            "請輸入成績: 79\n",
            "C\n"
          ]
        }
      ]
    },
    {
      "cell_type": "code",
      "source": [
        "month = int(input(\"请输入月份：\"))\n",
        "if month == 12 or month == 1 or month == 2:\n",
        "    print(month,\"月是冬天！\")\n",
        "elif month >= 3 and month <= 5:\n",
        "    print(month,\"月是春天！\")\n",
        "elif month >= 6 and month <= 8:\n",
        "    print(month,\"月是夏天！\")\n",
        "else:\n",
        "    print(month,\"月是秋天！\")"
      ],
      "metadata": {
        "colab": {
          "base_uri": "https://localhost:8080/"
        },
        "id": "EmhjybPbJGM-",
        "outputId": "985ab03f-6efa-444d-e6b6-df88eb4f014f"
      },
      "execution_count": 6,
      "outputs": [
        {
          "output_type": "stream",
          "name": "stdout",
          "text": [
            "请输入月份：12\n",
            "12 月是冬天！\n"
          ]
        }
      ]
    },
    {
      "cell_type": "code",
      "source": [
        "s = int(input(\"請輸入今年收入净額: \"))\n",
        "if s >= 2000000:\n",
        "    tax = s*0.3\n",
        "elif s >= 1000000:\n",
        "    tax = s*0.21\n",
        "elif s >= 600000:\n",
        "    tax = s*0.13\n",
        "elif s >= 300000:\n",
        "    tax = s*0.06\n",
        "else:\n",
        "    tax = 0\n",
        "print(\"付稅金額：\",tax,\"元\")"
      ],
      "metadata": {
        "id": "LY8R4x54JJzP",
        "outputId": "7629860b-0f85-4bce-a56d-6657b374d135",
        "colab": {
          "base_uri": "https://localhost:8080/"
        }
      },
      "execution_count": 7,
      "outputs": [
        {
          "output_type": "stream",
          "name": "stdout",
          "text": [
            "請輸入今年收入净額: 82222222\n",
            "付稅金額： 24666666.599999998 元\n"
          ]
        }
      ]
    }
  ]
}
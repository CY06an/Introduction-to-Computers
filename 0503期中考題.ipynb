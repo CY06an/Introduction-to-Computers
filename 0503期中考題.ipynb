{
  "nbformat": 4,
  "nbformat_minor": 0,
  "metadata": {
    "colab": {
      "provenance": [],
      "toc_visible": true,
      "authorship_tag": "ABX9TyO6HlDOpgO7AIyH8sGofgoX",
      "include_colab_link": true
    },
    "kernelspec": {
      "name": "python3",
      "display_name": "Python 3"
    },
    "language_info": {
      "name": "python"
    }
  },
  "cells": [
    {
      "cell_type": "markdown",
      "metadata": {
        "id": "view-in-github",
        "colab_type": "text"
      },
      "source": [
        "<a href=\"https://colab.research.google.com/github/CY06an/Introduction-to-Computers/blob/main/0503%E6%9C%9F%E4%B8%AD%E8%80%83%E9%A1%8C.ipynb\" target=\"_parent\"><img src=\"https://colab.research.google.com/assets/colab-badge.svg\" alt=\"Open In Colab\"/></a>"
      ]
    },
    {
      "cell_type": "code",
      "execution_count": 1,
      "metadata": {
        "colab": {
          "base_uri": "https://localhost:8080/"
        },
        "id": "O7cuFPpLvLEh",
        "outputId": "31db5e0b-b409-42b5-f367-864447fcea6f"
      },
      "outputs": [
        {
          "output_type": "stream",
          "name": "stdout",
          "text": [
            "peiyu\n"
          ]
        }
      ],
      "source": [
        "#第一題\n",
        "print(\"peiyu\")"
      ]
    },
    {
      "cell_type": "code",
      "source": [
        "#第二題\n",
        "b = input()\n",
        "print(len(b))"
      ],
      "metadata": {
        "colab": {
          "base_uri": "https://localhost:8080/"
        },
        "id": "gHV37RiLwCUn",
        "outputId": "e8d6366d-18cc-4a75-8a59-ac37341368b5"
      },
      "execution_count": 2,
      "outputs": [
        {
          "output_type": "stream",
          "name": "stdout",
          "text": [
            "hihihi\n",
            "6\n"
          ]
        }
      ]
    },
    {
      "cell_type": "code",
      "source": [
        "#第三題\n",
        "a = int(input())\n",
        "total = 0\n",
        "for i in range(10,a+1):\n",
        "  total += i\n",
        "print(total)"
      ],
      "metadata": {
        "colab": {
          "base_uri": "https://localhost:8080/"
        },
        "id": "4jWWMUEmwYky",
        "outputId": "ff6b0084-dc4e-4d87-8396-3ac819535a07"
      },
      "execution_count": 14,
      "outputs": [
        {
          "output_type": "stream",
          "name": "stdout",
          "text": [
            "20\n",
            "165\n"
          ]
        }
      ]
    },
    {
      "cell_type": "code",
      "source": [
        "#第四題\n",
        "h,w = input().split(' ')\n",
        "int_h = int(h)\n",
        "int_w = int(w)\n",
        "h_m = int_h / 100\n",
        "bmi = int_w / h_m ** 2\n",
        "print(\"%.2f\" % bmi)"
      ],
      "metadata": {
        "colab": {
          "base_uri": "https://localhost:8080/"
        },
        "id": "y7iEwyik2-mH",
        "outputId": "47b7e9e4-b04f-425b-a921-b0124fef57ea"
      },
      "execution_count": 31,
      "outputs": [
        {
          "output_type": "stream",
          "name": "stdout",
          "text": [
            "170 50\n",
            "17.30\n"
          ]
        }
      ]
    },
    {
      "cell_type": "markdown",
      "source": [],
      "metadata": {
        "id": "4933U4__v6zQ"
      }
    }
  ]
}